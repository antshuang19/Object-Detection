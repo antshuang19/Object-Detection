{
 "cells": [
  {
   "cell_type": "code",
   "execution_count": null,
   "id": "e0ddcfc1",
   "metadata": {},
   "outputs": [],
   "source": [
    "import cv2 # pip install opencv-python\n",
    "import matplotlib.pyplot as plt"
   ]
  },
  {
   "cell_type": "code",
   "execution_count": null,
   "id": "7552f5bc",
   "metadata": {},
   "outputs": [],
   "source": [
    "configuration_file = 'ssd_mobilenet_v3_large_coco_2020_01_14.pbtxt'\n",
    "frozen_model = 'frozen_inference_graph.pb'"
   ]
  },
  {
   "cell_type": "code",
   "execution_count": null,
   "id": "d925d1e6",
   "metadata": {},
   "outputs": [],
   "source": [
    "model = cv2.dnn_DetectionModel(frozen_model,configuration_file)"
   ]
  },
  {
   "cell_type": "code",
   "execution_count": null,
   "id": "3a782db1",
   "metadata": {},
   "outputs": [],
   "source": [
    "classLabel =[]\n",
    "file_name = 'label.txt'\n",
    "with open (file_name,'rt') as file :\n",
    "    classLabel = file.read().rstrip('\\n').split('\\n')"
   ]
  },
  {
   "cell_type": "code",
   "execution_count": null,
   "id": "57073deb",
   "metadata": {},
   "outputs": [],
   "source": [
    "print(len(classLabel))"
   ]
  },
  {
   "cell_type": "code",
   "execution_count": null,
   "id": "b6e84c7e",
   "metadata": {},
   "outputs": [],
   "source": [
    "model.setInputSize(320,320)\n",
    "model.setInputScale(1.0/127.5)\n",
    "model.setInputMean((127.5,27,5,127.5))\n",
    "model.setInputSwapRB(True)"
   ]
  },
  {
   "cell_type": "markdown",
   "id": "d93472c9",
   "metadata": {},
   "source": [
    "# Read Image "
   ]
  },
  {
   "cell_type": "code",
   "execution_count": null,
   "id": "1d480332",
   "metadata": {},
   "outputs": [],
   "source": [
    "img = cv2.imread('photo-1503023345310-bd7c1de61c7d.jpeg')"
   ]
  },
  {
   "cell_type": "code",
   "execution_count": null,
   "id": "050130a6",
   "metadata": {},
   "outputs": [],
   "source": [
    "plt.imshow(img)"
   ]
  },
  {
   "cell_type": "code",
   "execution_count": null,
   "id": "72d360e7",
   "metadata": {},
   "outputs": [],
   "source": [
    "ClassIndex ,confidence,bbox = model.detect(img,confThreshold=0.5)"
   ]
  },
  {
   "cell_type": "code",
   "execution_count": null,
   "id": "54bf2451",
   "metadata": {},
   "outputs": [],
   "source": [
    "font_scale = 3\n",
    "font = cv2.FONT_HERSHEY_PLAIN\n",
    "for ClassInd ,confidence,boxes in zip(ClassIndex.flatten(),confidence.flatten(),bbox):\n",
    "    cv2.rectangle(img,boxes,(250,0,0),2)\n",
    "    cv2.putText(img,classLabel[ClassInd-1],(boxes[0]+10,boxes[1]+40),font,fontScale=font_scale,color=(255, 0, 0),thickness = 3)"
   ]
  },
  {
   "cell_type": "code",
   "execution_count": null,
   "id": "dc126352",
   "metadata": {},
   "outputs": [],
   "source": [
    "plt.imshow(cv2.cvtColor(img,cv2.COLOR_BGR2RGB))"
   ]
  },
  {
   "cell_type": "code",
   "execution_count": null,
   "id": "4f9e1170",
   "metadata": {},
   "outputs": [],
   "source": [
    "video = cv2.VideoCapture('160929_124_London_Buses_1080p.mp4')\n",
    "if not video.isOpened():\n",
    "    video = cv2.VideoCapture(0)\n",
    "if not video.isOpened():\n",
    "    raise IOError('Video cannt Open')\n",
    "font_scale = 100\n",
    "font = cv2.FONT_HERSHEY_TRIPLEX  \n",
    "while True :\n",
    "    ret,frame = video.read()\n",
    "    ClassIndex ,confidence,bbox = model.detect(frame,confThreshold=0.5)\n",
    "    print(ClassIndex)\n",
    "    if len(ClassIndex) != 0:\n",
    "        for ClassInd ,confidence,boxes in zip(ClassIndex.flatten(),confidence.flatten(),bbox):\n",
    "            if ClassInd <= 80:\n",
    "                cv2.rectangle(frame,boxes,(250,0,0),2)\n",
    "                cv2.putText(frame,classLabel[ClassInd-1],(boxes[0]+10,boxes[1]+40),font,fontScale=font_scale,color=(255, 0, 0),thickness = 3)\n",
    "    cv2.imshow('Object Detection',frame)\n",
    "    if cv2.waitKey(2) & 0xFF == ord('q'):\n",
    "        break\n",
    "cap.release()\n",
    "cv2.destroyAllWindow()"
   ]
  },
  {
   "cell_type": "code",
   "execution_count": null,
   "id": "a60d8109",
   "metadata": {},
   "outputs": [],
   "source": []
  }
 ],
 "metadata": {
  "kernelspec": {
   "display_name": "Python 3 (ipykernel)",
   "language": "python",
   "name": "python3"
  },
  "language_info": {
   "codemirror_mode": {
    "name": "ipython",
    "version": 3
   },
   "file_extension": ".py",
   "mimetype": "text/x-python",
   "name": "python",
   "nbconvert_exporter": "python",
   "pygments_lexer": "ipython3",
   "version": "3.9.12"
  }
 },
 "nbformat": 4,
 "nbformat_minor": 5
}
